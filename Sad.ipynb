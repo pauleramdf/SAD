{
 "cells": [
  {
   "cell_type": "markdown",
   "id": "0ebf6a0d-f8f7-45fc-bb01-10bbbc6f11ba",
   "metadata": {},
   "source": [
    "Restrições hard:\n",
    "Não podemos alocar uma turma numa sala com quantidade de assentos menor\n",
    "que o número de alunos matriculados.\n",
    "Não podemos alocar uma turma que necessita de acessibilidade numa sala que\n",
    "não é acessível\n",
    "Restrições soft\n",
    "• Devemos minimizar a taxa de ocupação de salas: (número de alunos\n",
    "– tamanho da sala)/tamanho da sala.\n",
    "• Restrição de qualidade da sala: Uma turma de qualidade baixa pode\n",
    "ser alocada numa sala de qualidade alta, mas o contrário não é\n",
    "verdade.\n",
    "• Restrição de salas no mesmo horário: penalizar uma distribuição\n",
    "onde uma mesma turma esteja numa sala diferentes.\n",
    "• Restrição de calouros na mesma sala: penalizar distribuições onde\n",
    "turmas de calouros de um mesmo curso estejam em salas\n",
    "diferentes."
   ]
  },
  {
   "cell_type": "code",
   "execution_count": 39,
   "id": "91c5d13f-b140-4413-b65f-bfc99e44fe4e",
   "metadata": {
    "tags": []
   },
   "outputs": [
    {
     "output_type": "error",
     "ename": "TypeError",
     "evalue": "list indices must be integers or slices, not str",
     "traceback": [
      "\u001b[1;31m---------------------------------------------------------------------------\u001b[0m",
      "\u001b[1;31mTypeError\u001b[0m                                 Traceback (most recent call last)",
      "\u001b[1;32m<ipython-input-39-7fd9a638550a>\u001b[0m in \u001b[0;36m<module>\u001b[1;34m\u001b[0m\n\u001b[0;32m     40\u001b[0m \u001b[0mid_salas\u001b[0m \u001b[1;33m=\u001b[0m \u001b[1;33m[\u001b[0m\u001b[1;33m]\u001b[0m\u001b[1;33m\u001b[0m\u001b[1;33m\u001b[0m\u001b[0m\n\u001b[0;32m     41\u001b[0m \u001b[1;32mfor\u001b[0m \u001b[0mrow\u001b[0m \u001b[1;32min\u001b[0m \u001b[0mdf\u001b[0m\u001b[1;33m:\u001b[0m\u001b[1;33m\u001b[0m\u001b[1;33m\u001b[0m\u001b[0m\n\u001b[1;32m---> 42\u001b[1;33m     \u001b[0msalas\u001b[0m\u001b[1;33m[\u001b[0m\u001b[0mrow\u001b[0m\u001b[1;33m[\u001b[0m\u001b[1;34m'id_sala'\u001b[0m\u001b[1;33m]\u001b[0m\u001b[1;33m]\u001b[0m \u001b[1;33m=\u001b[0m \u001b[1;33m{\u001b[0m\u001b[1;34m\"cad\"\u001b[0m\u001b[1;33m:\u001b[0m \u001b[0mrow\u001b[0m\u001b[1;33m[\u001b[0m\u001b[1;34m'numero_cadeiras'\u001b[0m\u001b[1;33m]\u001b[0m\u001b[1;33m,\u001b[0m \u001b[1;34m\"acess\"\u001b[0m\u001b[1;33m:\u001b[0m \u001b[0mrow\u001b[0m\u001b[1;33m[\u001b[0m\u001b[1;34m'acessivel'\u001b[0m\u001b[1;33m]\u001b[0m\u001b[1;33m,\u001b[0m \u001b[1;34m\"quali\"\u001b[0m\u001b[1;33m:\u001b[0m \u001b[0mrow\u001b[0m\u001b[1;33m[\u001b[0m\u001b[1;34m'qualidade'\u001b[0m\u001b[1;33m]\u001b[0m\u001b[1;33m}\u001b[0m\u001b[1;33m\u001b[0m\u001b[1;33m\u001b[0m\u001b[0m\n\u001b[0m\u001b[0;32m     43\u001b[0m     \u001b[0mid_salas\u001b[0m\u001b[1;33m.\u001b[0m\u001b[0mappend\u001b[0m\u001b[1;33m(\u001b[0m\u001b[0mrow\u001b[0m\u001b[1;33m[\u001b[0m\u001b[1;34m'id_sala'\u001b[0m\u001b[1;33m]\u001b[0m\u001b[1;33m)\u001b[0m\u001b[1;33m\u001b[0m\u001b[1;33m\u001b[0m\u001b[0m\n\u001b[0;32m     44\u001b[0m \u001b[1;33m\u001b[0m\u001b[0m\n",
      "\u001b[1;31mTypeError\u001b[0m: list indices must be integers or slices, not str"
     ]
    }
   ],
   "source": [
    "import csv\n",
    "from typing import Dict,List\n",
    "from queue import Queue\n",
    "import numpy as np\n",
    "\n",
    "def transHorario(horario):\n",
    "    list = []\n",
    "    turmaTemp = horario.split(\"-\")\n",
    "    for i in range(len(turmaTemp)):\n",
    "        dia = int(turmaTemp[i][0])\n",
    "        turno = turmaTemp[i][1]\n",
    "        horarioIni = int(turmaTemp[i][2])\n",
    "\n",
    "        if(turno == 'T'):\n",
    "            horarioIni = horarioIni +3\n",
    "\n",
    "        elif(turno == 'N'):\n",
    "            horarioIni = horarioIni + 6\n",
    "        '''\n",
    "        if(int(turmaTemp[i][0]) == 2):\n",
    "            dia = 'seg'\n",
    "        elif(int(turmaTemp[i][0]) == 3):\n",
    "            dia = 'ter'\n",
    "        elif(int(turmaTemp[i][0]) == 4):\n",
    "            dia = 'qua'\n",
    "        elif(int(turmaTemp[i][0]) == 5):\n",
    "            dia = 'qui'\n",
    "        elif(int(turmaTemp[i][0]) == 6):\n",
    "            dia = 'sex'\n",
    "        else:\n",
    "            dia = 'sab'\n",
    "        '''\n",
    "        list.append((dia,int(horarioIni)))\n",
    "    return list\n",
    "\n",
    "\n",
    "    \n",
    "df = csv.DictReader(open(r\"C:\\Users\\Paulo\\Desktop\\Trabalho SAD\\cenario1-salas.csv\",encoding='utf-8'))\n",
    "salas = []\n",
    "id_salas = [] \n",
    "for row in df:\n",
    "    salas[row['id_sala']] = {\"cad\": row['numero_cadeiras'], \"acess\": row['acessivel'], \"quali\": row['qualidade']}\n",
    "    id_salas.append(row['id_sala'])\n",
    "\n",
    "\n",
    "\n",
    "df = csv.DictReader(open(r\"C:\\Users\\Paulo\\Desktop\\Trabalho SAD\\cenario1-turmas.csv\",encoding='utf-8'))\n",
    "turmas = []\n",
    "for row in df:\n",
    "    turmas.append({\"disc\" :row['disciplina'],\"prof\": row['professor'], \"horario\": transHorario(row['dias_horario']),\n",
    "                                \"alunos\": int(row['numero_alunos']),\"curso\": row['curso'],\"periodo\": int(row['período'])\n",
    "                                ,\"acess\": int(row['acessibilidade']),\"qual\": int(row['qualidade'])})\n",
    "\n",
    "\n",
    " \n",
    "'''\n",
    "for sala in salas:\n",
    "    print(sala)\n",
    "\n",
    "for turma in turmas:\n",
    "    print(turma)\n",
    "'''\n",
    "horarios = []\n",
    "for sala in id_salas:\n",
    "    horarios[sala] =  {\"seg\":{\"1\": 0, \"2\": 0 , \"3\": 0 , \"4\": 0, \"5\": 0 , \"6\": 0 ,\"7\": 0 ,\"8\": 0 },\n",
    "                                  \"ter\":{\"1\": 0, \"2\": 0 , \"3\": 0 , \"4\": 0 , \"5\": 0 , \"6\": 0 ,\"7\": 0 ,\"8\": 0 },\n",
    "                                  \"qua\":{\"1\": 0, \"2\": 0 , \"3\": 0 , \"4\": 0 , \"5\": 0 , \"6\": 0 ,\"7\": 0 ,\"8\": 0 },\n",
    "                                  \"qui\":{\"1\": 0, \"2\": 0 , \"3\": 0 , \"4\": 0 , \"5\": 0 , \"6\": 0 ,\"7\": 0 ,\"8\": 0 },\n",
    "                                  \"sex\":{\"1\": 0, \"2\": 0 , \"3\": 0 , \"4\": 0 , \"5\": 0 , \"6\": 0 ,\"7\": 0 ,\"8\": 0 },\n",
    "                                 \"sab\":{\"1\": 0, \"2\": 0 , \"3\": 0 , \"4\": 0 , \"5\": 0 , \"6\": 0 ,\"7\": 0 ,\"8\": 0 }}\n",
    "\n"
   ]
  },
  {
   "source": [
    "um dict para dia/horario/sala "
   ],
   "cell_type": "markdown",
   "metadata": {}
  },
  {
   "cell_type": "code",
   "execution_count": 34,
   "id": "bf93db26-b8af-4fd6-afa4-d7cc24741c75",
   "metadata": {},
   "outputs": [
    {
     "output_type": "stream",
     "name": "stdout",
     "text": [
      "73\n[(2, 1), (5, 3)]\n[(3, 5), (5, 3)]\n[(7, 1), (7, 3)]\n[(3, 6)]\n[(5, 6)]\n[(6, 6)]\n[(2, 4)]\n[(4, 4)]\n[(3, 7), (5, 7), (6, 7)]\n[(3, 9), (5, 9)]\n[(2, 5), (5, 5)]\n[(2, 6), (4, 6)]\n[(2, 6), (4, 6)]\n[(4, 8), (6, 8)]\n[(3, 3), (5, 1)]\n[(3, 8), (5, 8)]\n[(2, 8), (4, 8)]\n[(2, 4), (4, 4), (6, 4)]\n[(3, 6), (5, 6)]\n[(3, 1), (4, 1)]\n[(3, 1), (5, 1)]\n[(2, 5), (4, 5), (6, 5)]\n[(3, 7), (5, 7), (6, 7)]\n[(2, 6), (4, 6)]\n[(2, 3), (4, 3), (6, 1)]\n[(3, 5), (5, 5)]\n[(2, 3), (4, 3), (6, 3)]\n[(3, 4), (5, 4), (6, 4)]\n[(3, 6), (5, 6)]\n[(2, 8)]\n[(2, 6), (4, 6), (6, 6)]\n[(3, 8), (5, 8)]\n[(2, 9), (4, 9)]\n[(2, 8), (4, 8), (6, 8)]\n[(2, 7), (4, 7)]\n[(2, 8), (4, 8)]\n[(2, 7), (4, 7)]\n[(3, 4), (5, 4)]\n[(2, 5), (4, 5), (6, 5)]\n[(3, 8), (5, 8)]\n[(3, 3), (4, 5)]\n[(2, 9), (4, 9), (6, 9)]\n[(3, 9), (5, 9)]\n[(3, 6), (5, 6)]\n[(2, 1), (4, 1)]\n[[2. 0. 0. 0. 0. 0. 0. 0. 0. 0. 0. 0. 0. 0. 0. 0. 0. 0. 0. 0.]\n [0. 0. 0. 0. 0. 0. 0. 0. 0. 0. 0. 0. 0. 0. 0. 0. 0. 0. 0. 0.]\n [2. 0. 0. 0. 0. 0. 0. 0. 0. 0. 0. 0. 0. 0. 0. 0. 0. 0. 0. 0.]\n [2. 0. 0. 0. 0. 0. 0. 0. 0. 0. 0. 0. 0. 0. 0. 0. 0. 0. 0. 0.]\n [3. 0. 0. 0. 0. 0. 0. 0. 0. 0. 0. 0. 0. 0. 0. 0. 0. 0. 0. 0.]\n [4. 0. 0. 0. 0. 0. 0. 0. 0. 0. 0. 0. 0. 0. 0. 0. 0. 0. 0. 0.]\n [2. 0. 0. 0. 0. 0. 0. 0. 0. 0. 0. 0. 0. 0. 0. 0. 0. 0. 0. 0.]\n [4. 0. 0. 0. 0. 0. 0. 0. 0. 0. 0. 0. 0. 0. 0. 0. 0. 0. 0. 0.]\n [2. 0. 0. 0. 0. 0. 0. 0. 0. 0. 0. 0. 0. 0. 0. 0. 0. 0. 0. 0.]]\n[[2. 0. 0. 0. 0. 0. 0. 0. 0. 0. 0. 0. 0. 0. 0. 0. 0. 0. 0. 0.]\n [0. 0. 0. 0. 0. 0. 0. 0. 0. 0. 0. 0. 0. 0. 0. 0. 0. 0. 0. 0.]\n [2. 0. 0. 0. 0. 0. 0. 0. 0. 0. 0. 0. 0. 0. 0. 0. 0. 0. 0. 0.]\n [2. 0. 0. 0. 0. 0. 0. 0. 0. 0. 0. 0. 0. 0. 0. 0. 0. 0. 0. 0.]\n [2. 0. 0. 0. 0. 0. 0. 0. 0. 0. 0. 0. 0. 0. 0. 0. 0. 0. 0. 0.]\n [4. 0. 0. 0. 0. 0. 0. 0. 0. 0. 0. 0. 0. 0. 0. 0. 0. 0. 0. 0.]\n [2. 0. 0. 0. 0. 0. 0. 0. 0. 0. 0. 0. 0. 0. 0. 0. 0. 0. 0. 0.]\n [3. 0. 0. 0. 0. 0. 0. 0. 0. 0. 0. 0. 0. 0. 0. 0. 0. 0. 0. 0.]\n [2. 0. 0. 0. 0. 0. 0. 0. 0. 0. 0. 0. 0. 0. 0. 0. 0. 0. 0. 0.]]\n[[2. 0. 0. 0. 0. 0. 0. 0. 0. 0. 0. 0. 0. 0. 0. 0. 0. 0. 0. 0.]\n [0. 0. 0. 0. 0. 0. 0. 0. 0. 0. 0. 0. 0. 0. 0. 0. 0. 0. 0. 0.]\n [2. 0. 0. 0. 0. 0. 0. 0. 0. 0. 0. 0. 0. 0. 0. 0. 0. 0. 0. 0.]\n [2. 0. 0. 0. 0. 0. 0. 0. 0. 0. 0. 0. 0. 0. 0. 0. 0. 0. 0. 0.]\n [3. 0. 0. 0. 0. 0. 0. 0. 0. 0. 0. 0. 0. 0. 0. 0. 0. 0. 0. 0.]\n [4. 0. 0. 0. 0. 0. 0. 0. 0. 0. 0. 0. 0. 0. 0. 0. 0. 0. 0. 0.]\n [2. 0. 0. 0. 0. 0. 0. 0. 0. 0. 0. 0. 0. 0. 0. 0. 0. 0. 0. 0.]\n [4. 0. 0. 0. 0. 0. 0. 0. 0. 0. 0. 0. 0. 0. 0. 0. 0. 0. 0. 0.]\n [2. 0. 0. 0. 0. 0. 0. 0. 0. 0. 0. 0. 0. 0. 0. 0. 0. 0. 0. 0.]]\n[[2. 0. 0. 0. 0. 0. 0. 0. 0. 0. 0. 0. 0. 0. 0. 0. 0. 0. 0. 0.]\n [0. 0. 0. 0. 0. 0. 0. 0. 0. 0. 0. 0. 0. 0. 0. 0. 0. 0. 0. 0.]\n [2. 0. 0. 0. 0. 0. 0. 0. 0. 0. 0. 0. 0. 0. 0. 0. 0. 0. 0. 0.]\n [2. 0. 0. 0. 0. 0. 0. 0. 0. 0. 0. 0. 0. 0. 0. 0. 0. 0. 0. 0.]\n [2. 0. 0. 0. 0. 0. 0. 0. 0. 0. 0. 0. 0. 0. 0. 0. 0. 0. 0. 0.]\n [4. 0. 0. 0. 0. 0. 0. 0. 0. 0. 0. 0. 0. 0. 0. 0. 0. 0. 0. 0.]\n [2. 0. 0. 0. 0. 0. 0. 0. 0. 0. 0. 0. 0. 0. 0. 0. 0. 0. 0. 0.]\n [3. 0. 0. 0. 0. 0. 0. 0. 0. 0. 0. 0. 0. 0. 0. 0. 0. 0. 0. 0.]\n [2. 0. 0. 0. 0. 0. 0. 0. 0. 0. 0. 0. 0. 0. 0. 0. 0. 0. 0. 0.]]\n[[1. 0. 0. 0. 0. 0. 0. 0. 0. 0. 0. 0. 0. 0. 0. 0. 0. 0. 0. 0.]\n [0. 0. 0. 0. 0. 0. 0. 0. 0. 0. 0. 0. 0. 0. 0. 0. 0. 0. 0. 0.]\n [1. 0. 0. 0. 0. 0. 0. 0. 0. 0. 0. 0. 0. 0. 0. 0. 0. 0. 0. 0.]\n [2. 0. 0. 0. 0. 0. 0. 0. 0. 0. 0. 0. 0. 0. 0. 0. 0. 0. 0. 0.]\n [2. 0. 0. 0. 0. 0. 0. 0. 0. 0. 0. 0. 0. 0. 0. 0. 0. 0. 0. 0.]\n [2. 0. 0. 0. 0. 0. 0. 0. 0. 0. 0. 0. 0. 0. 0. 0. 0. 0. 0. 0.]\n [2. 0. 0. 0. 0. 0. 0. 0. 0. 0. 0. 0. 0. 0. 0. 0. 0. 0. 0. 0.]\n [2. 0. 0. 0. 0. 0. 0. 0. 0. 0. 0. 0. 0. 0. 0. 0. 0. 0. 0. 0.]\n [1. 0. 0. 0. 0. 0. 0. 0. 0. 0. 0. 0. 0. 0. 0. 0. 0. 0. 0. 0.]]\n[[1. 0. 0. 0. 0. 0. 0. 0. 0. 0. 0. 0. 0. 0. 0. 0. 0. 0. 0. 0.]\n [0. 0. 0. 0. 0. 0. 0. 0. 0. 0. 0. 0. 0. 0. 0. 0. 0. 0. 0. 0.]\n [1. 0. 0. 0. 0. 0. 0. 0. 0. 0. 0. 0. 0. 0. 0. 0. 0. 0. 0. 0.]\n [0. 0. 0. 0. 0. 0. 0. 0. 0. 0. 0. 0. 0. 0. 0. 0. 0. 0. 0. 0.]\n [0. 0. 0. 0. 0. 0. 0. 0. 0. 0. 0. 0. 0. 0. 0. 0. 0. 0. 0. 0.]\n [0. 0. 0. 0. 0. 0. 0. 0. 0. 0. 0. 0. 0. 0. 0. 0. 0. 0. 0. 0.]\n [0. 0. 0. 0. 0. 0. 0. 0. 0. 0. 0. 0. 0. 0. 0. 0. 0. 0. 0. 0.]\n [0. 0. 0. 0. 0. 0. 0. 0. 0. 0. 0. 0. 0. 0. 0. 0. 0. 0. 0. 0.]\n [0. 0. 0. 0. 0. 0. 0. 0. 0. 0. 0. 0. 0. 0. 0. 0. 0. 0. 0. 0.]]\n"
     ]
    }
   ],
   "source": [
    "\n",
    "def encontraMelhorSala(turma,dia,horario,salas,matriz):\n",
    "    i = 0\n",
    "    matriz[dia-2][horario-1][i] = 1 + matriz[dia-2][horario-1][i]\n",
    "    '''\n",
    "    while(True):\n",
    "        #if(matriz[dia-2][horario-1][i] == 0 and salas[i]['cad'] >= turma['alunos']):\n",
    "            #print(\"alocado\",dia,horario,turma['disc'],salas[i]['id'])\n",
    "            #matriz[dia-2][horario-1][i] = 1 + matriz[dia-2][horario-1][i]\n",
    "        break\n",
    "        if(i == len(salas)-1):\n",
    "            i = 0\n",
    "        else:\n",
    "            i += 1\n",
    "    '''\n",
    "turmas = sorted(turmas, key=lambda turma: turma['alunos'])\n",
    "salas = sorted(salas, key=lambda sala: sala['cad'])\n",
    "\n",
    "\n",
    "conflitos = 0 \n",
    "for i in range (len(turmas)):\n",
    "    for j in range(len(turmas)):\n",
    "        if(turmas[i]['horario'] == turmas[j]['horario']):\n",
    "            conflitos =conflitos +1\n",
    "print(conflitos)\n",
    "matriz = np.zeros((6,9,len(salas))) \n",
    "t = Queue(len(turmas))\n",
    "s = Queue(len(salas))\n",
    "for i in range(len(salas)):\n",
    "    s.put(salas[i])\n",
    "    \n",
    "for i in range(len(turmas)):\n",
    "    t.put(turmas[i])\n",
    "    print(turmas[i]['horario'])\n",
    "  \n",
    "for i in range(len(turmas)):\n",
    "    #salaTemp = s.get()\n",
    "    turmaTemp = t.get()\n",
    "    for j in range(len(turmaTemp['horario'])):                                                 \n",
    "        dia = turmaTemp['horario'][j][0]\n",
    "        horario = turmaTemp['horario'][j][1]\n",
    "        encontraMelhorSala(turmaTemp,dia,horario, salas, matriz)\n",
    "        #matriz[dia][horario] = 1 \n",
    "for i in range(6):\n",
    "    print(matriz[i])"
   ]
  },
  {
   "cell_type": "code",
   "execution_count": null,
   "id": "664d8032-f3bd-471d-8a0c-9fe429ca8201",
   "metadata": {},
   "outputs": [],
   "source": []
  }
 ],
 "metadata": {
  "kernelspec": {
   "display_name": "Python 3",
   "language": "python",
   "name": "python3"
  }
 },
 "nbformat": 4,
 "nbformat_minor": 5
}