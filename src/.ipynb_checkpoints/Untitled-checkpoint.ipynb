{
 "cells": [
  {
   "cell_type": "code",
   "execution_count": 39,
   "id": "04cca747-c3ca-4575-88bb-65ec61a2974f",
   "metadata": {},
   "outputs": [
    {
     "name": "stdout",
     "output_type": "stream",
     "text": [
      "achou o padrao no indice 88\n"
     ]
    }
   ],
   "source": [
    "def hash( texto , tam, tamAlfabeto):\n",
    "    h = 0\n",
    "    for j in range(tam):\n",
    "        h = (h*tamAlfabeto + ord(texto[j]))%primo\n",
    "\n",
    "    return h\n",
    "\n",
    "def  rabinKarp (texto, n, padrao, m, primo, tamAlfabeto):\n",
    "    \n",
    "    hashPadrao = 0\n",
    "    hashPadrao = hash(padrao, m, tamAlfabeto)\n",
    "\n",
    "    hashAcc = 1\n",
    "    for i in range(1,m):\n",
    "        hashAcc = (tamAlfabeto*hashAcc)%primo\n",
    "\n",
    "    txtHash = hash(texto, m, tamAlfabeto)\n",
    "    if (hashPadrao == txtHash and confere(texto,padrao,0,m)):\n",
    "        print(\"achou o padrao no indice\",0) \n",
    "    \n",
    "    for i in range(1,n-m):\n",
    "        txtHash = (txtHash + primo - (hashAcc*ord(texto[i-1]))%primo)%primo\n",
    "        txtHash = (txtHash *tamAlfabeto + ord(texto[i+m-1]))%primo \n",
    "        if(hashPadrao == txtHash):\n",
    "            print(\"achou o padrao no indice\",i)\n",
    "\n",
    "    \n",
    "def confere(txt, padrao, i, m):\n",
    "    k = 0\n",
    "    for j in range (i,i+m-1):\n",
    "        if(texto[j] != padrao[k]):\n",
    "            return False \n",
    "        k += 1\n",
    "\n",
    "    return True\n",
    "    \n",
    "primo = 3354393\n",
    "tamAlfabeto = 256\n",
    "\n",
    "texto  = \"Lorem ipsum dolor sit amet, consectetur adipiscing elit. Nullam purus sem, vehicula nec blandit vitae, iaculis ut nunc. Nam neque felis, venenatis vitae pellentesque lacinia, dictum vel mi. Nulla non leo nisl. Integer sagittis commodo urna, in commodo ligula volutpat eget. In eget vestibulum purus. Mauris placerat lectus in elit.\"\n",
    "padrao = \"blandit\"\n",
    "\n",
    "rabinKarp(texto, len(texto), padrao, len(padrao), primo, tamAlfabeto)"
   ]
  },
  {
   "cell_type": "code",
   "execution_count": null,
   "id": "78857b31-01be-49d5-a138-e2a46ee10147",
   "metadata": {},
   "outputs": [],
   "source": [
    "def hash( texto , tam, tamAlfabeto):\n",
    "    h = 0\n",
    "    for j in range(tam):\n",
    "        h = (h*tamAlfabeto + ord(texto[j]))%primo\n",
    "\n",
    "    return h\n",
    "\n",
    "def  rabinKarp (texto, n, padrao,k , m, primo, tamAlfabeto):\n",
    "    \n",
    "    listaHash = []\n",
    "    for i in range(k):\n",
    "        listaHash.append(hash(padrao[i], m, tamAlfabeto))\n",
    "\n",
    "    hashAcc = 1\n",
    "    for i in range(1,m):\n",
    "        hashAcc = (tamAlfabeto*hashAcc)%primo\n",
    "\n",
    "    txtHash = hash(texto, m, tamAlfabeto)\n",
    "    if (hashPadrao == txtHash and confere(texto,padrao,0,m)):\n",
    "        print(\"achou o padrao no indice\",0) \n",
    "    \n",
    "    for i in range(1,n-m):\n",
    "        txtHash = (txtHash + primo - (hashAcc*ord(texto[i-1]))%primo)%primo\n",
    "        txtHash = (txtHash *tamAlfabeto + ord(texto[i+m-1]))%primo \n",
    "        \n",
    "        for j in range(k):\n",
    "            if(listaHash == txtHash):\n",
    "            print(\"achou o padrao no indice\",i)\n",
    "\n",
    "    \n",
    "def confere(txt, padrao, i, m):\n",
    "    k = 0\n",
    "    for j in range (i,i+m-1):\n",
    "        if(texto[j] != padrao[k]):\n",
    "            return False \n",
    "        k += 1\n",
    "\n",
    "    return True\n",
    "    \n",
    "primo = 3354393\n",
    "tamAlfabeto = 256\n",
    "\n",
    "texto  = \"Lorem ipsum dolor sit amet, consectetur adipiscing elit. Nullam purus sem, vehicula nec blandit vitae, iaculis ut nunc. Nam neque felis, venenatis vitae pellentesque lacinia, dictum vel mi. Nulla non leo nisl. Integer sagittis commodo urna, in commodo ligula volutpat eget. In eget vestibulum purus. Mauris placerat lectus in elit.\"\n",
    "padrao = [\"elit\",\"amet\"]\n",
    "\n",
    "rabinKarp(texto, len(texto), padrao, len(padrao), len(padrao[0]), primo, tamAlfabeto)"
   ]
  },
  {
   "cell_type": "raw",
   "id": "32ae677b-1e88-425f-883e-11b80adb7c5c",
   "metadata": {},
   "source": []
  },
  {
   "cell_type": "code",
   "execution_count": null,
   "id": "dbb73fde-8999-4a70-b889-de4313a8af2c",
   "metadata": {},
   "outputs": [],
   "source": []
  },
  {
   "cell_type": "code",
   "execution_count": null,
   "id": "bad83692-a65c-4dcf-8596-eab52e4e71fe",
   "metadata": {},
   "outputs": [],
   "source": []
  }
 ],
 "metadata": {
  "kernelspec": {
   "display_name": "Python 3",
   "language": "python",
   "name": "python3"
  },
  "language_info": {
   "codemirror_mode": {
    "name": "ipython",
    "version": 3
   },
   "file_extension": ".py",
   "mimetype": "text/x-python",
   "name": "python",
   "nbconvert_exporter": "python",
   "pygments_lexer": "ipython3",
   "version": "3.8.5"
  }
 },
 "nbformat": 4,
 "nbformat_minor": 5
}
