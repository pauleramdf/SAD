{
 "cells": [
  {
   "cell_type": "markdown",
   "id": "0ebf6a0d-f8f7-45fc-bb01-10bbbc6f11ba",
   "metadata": {},
   "source": [
    "Restrições hard:\n",
    "Não podemos alocar uma turma numa sala com quantidade de assentos menor\n",
    "que o número de alunos matriculados.\n",
    "Não podemos alocar uma turma que necessita de acessibilidade numa sala que\n",
    "não é acessível\n",
    "Restrições soft\n",
    "• Devemos minimizar a taxa de ocupação de salas: (número de alunos\n",
    "– tamanho da sala)/tamanho da sala.\n",
    "• Restrição de qualidade da sala: Uma turma de qualidade baixa pode\n",
    "ser alocada numa sala de qualidade alta, mas o contrário não é\n",
    "verdade.\n",
    "• Restrição de salas no mesmo horário: penalizar uma distribuição\n",
    "onde uma mesma turma esteja numa sala diferentes.\n",
    "• Restrição de calouros na mesma sala: penalizar distribuições onde\n",
    "turmas de calouros de um mesmo curso estejam em salas\n",
    "diferentes."
   ]
  },
  {
   "cell_type": "code",
   "execution_count": 7,
   "metadata": {},
   "outputs": [],
   "source": [
    "#definitions\n",
    "\n",
    "import csv\n",
    "#leitura andre\n",
    "#df = csv.DictReader(open(\"cenario1-salas.csv\")) \n",
    "#df1 = csv.DictReader(open(\"cenario1-turmas.csv\",encoding='utf-8'))\n",
    "\n",
    "#leitura paulo\n",
    "df = csv.DictReader(open(r\"C:\\Users\\Paulo\\Desktop\\TrabalhoSAD\\cenario1-salas.csv\",encoding='utf-8'))\n",
    "df1 = csv.DictReader(open(r\"C:\\Users\\Paulo\\Desktop\\TrabalhoSAD\\cenario1-turmas.csv\",encoding='utf-8'))\n",
    "turmas = {}\n",
    "salas = {}\n",
    "horarios = {}\n",
    "id_Salas = []\n",
    "horario = {}\n",
    "x = 0"
   ]
  },
  {
   "cell_type": "code",
   "execution_count": 8,
   "metadata": {},
   "outputs": [],
   "source": [
    "#transforma o horario para um formato mais amigavel\n",
    "def transHorario(horario):\n",
    "    list = []\n",
    "    print(horario)\n",
    "    turmaTemp = horario.split(\"-\")\n",
    "    for i in range(len(turmaTemp)):\n",
    "        dia = int(turmaTemp[i][0])\n",
    "        turno = turmaTemp[i][1]\n",
    "        horarioIni = int(turmaTemp[i][2])\n",
    "\n",
    "        if(turno == 'M'):\n",
    "            horarioIni = 1 + horarioIni/2 \n",
    "        if(turno == 'T'):\n",
    "            horarioIni = 4 + horarioIni/2 \n",
    "\n",
    "        elif(turno == 'N'):\n",
    "            horarioIni = 7 + horarioIni/2\n",
    "        \n",
    "        if(int(turmaTemp[i][0]) == 2):\n",
    "            dia = 'seg'\n",
    "        elif(int(turmaTemp[i][0]) == 3):\n",
    "            dia = 'ter'\n",
    "        elif(int(turmaTemp[i][0]) == 4):\n",
    "            dia = 'qua'\n",
    "        elif(int(turmaTemp[i][0]) == 5):\n",
    "            dia = 'qui'\n",
    "        elif(int(turmaTemp[i][0]) == 6):\n",
    "            dia = 'sex'\n",
    "        else:\n",
    "            dia = 'sab'\n",
    "        list.append((dia,int(horarioIni)))\n",
    "    print(list)\n",
    "    return list"
   ]
  },
  {
   "cell_type": "code",
   "execution_count": 12,
   "id": "91c5d13f-b140-4413-b65f-bfc99e44fe4e",
   "metadata": {
    "tags": []
   },
   "outputs": [],
   "source": [
    "    \n",
    "for row in df1:\n",
    "    turmas[x] = {\"disciplina\": row['disciplina'],\"prof\": row['professor'], \"horario\": transHorario(row['dias_horario']),\n",
    "                 \"alunos\": int(row['numero_alunos']), \"curso\": row['curso'], \n",
    "                 \"periodo\": int(row['período']), \"acess\": int(row[\"acessibilidade\"]), \"quali\": int(row[\"qualidade\"])}\n",
    "    x+=1\n",
    "for row in df:\n",
    "    salas[row['id_sala']] = {\"cad\": int(row['numero_cadeiras']), \"acess\": int(row['acessivel']), \"quali\": row['qualidade']}\n",
    "    id_Salas.append(row['id_sala'])\n",
    "\n",
    "for sala in id_Salas:\n",
    "    horarios[sala] =  { \"seg\":{1: 0, 2: 0, 3: 0, 4: 0, 5: 0 , 6: 0 , 7: 0 , 8: 0 },\n",
    "                        \"ter\":{1: 0, 2: 0, 3: 0, 4: 0, 5: 0 , 6: 0 , 7: 0 , 8: 0 },\n",
    "                        \"qua\":{1: 0, 2: 0, 3: 0, 4: 0, 5: 0 , 6: 0 , 7: 0 , 8: 0 },\n",
    "                        \"qui\":{1: 0, 2: 0, 3: 0, 4: 0, 5: 0 , 6: 0 , 7: 0 , 8: 0 },\n",
    "                        \"sex\":{1: 0, 2: 0, 3: 0, 4: 0, 5: 0 , 6: 0 , 7: 0 , 8: 0 },\n",
    "                        \"sab\":{1: 0, 2: 0, 3: 0, 4: 0, 5: 0 , 6: 0 , 7: 0 , 8: 0 }}\n",
    "\n",
    "\n"
   ]
  },
  {
   "cell_type": "code",
   "execution_count": 13,
   "id": "bf93db26-b8af-4fd6-afa4-d7cc24741c75",
   "metadata": {
    "tags": []
   },
   "outputs": [],
   "source": [
    "\n",
    "sorted_salas = sorted(salas.items(), key=lambda sala: (sala[1]['acess'],sala[1]['cad']), reverse=True)\n",
    "\n",
    "sorted_turmas = sorted(turmas.items(), key=lambda turma: (turma[1]['acess'], turma[1]['alunos']), reverse=True)\n"
   ]
  },
  {
   "cell_type": "code",
   "execution_count": 17,
   "metadata": {},
   "outputs": [],
   "source": [
    "def achaSalasDisponiveis(horarios, turma, salas):\n",
    "    h = turma['horario']\n",
    "    #recebe a lista de horarios dessa turma\n",
    "    salasDisponiveis = []\n",
    "    #lista que recebe a solução\n",
    "    for sala in salas:\n",
    "        \n",
    "        for j in range(len(horarios)):\n",
    "            contador = 0\n",
    "            for k in range(len(h)):\n",
    "                dia = h[k][0]\n",
    "                #recebe o dia do horario k \n",
    "                horario = h[k][1] \n",
    "                #recebe a hora do horario k\n",
    "                if(horarios[sala[0]][dia][horario] == 0): \n",
    "                    contador += 1 \n",
    "                    #se o horario estiver disponivel é incrementado este contador\n",
    "        if(contador == len(h)): \n",
    "            #se o contador chegar ao mesmo tamanho da lista de horario, significa que essa \n",
    "            # sala está livre em todos os horarios dessa turma, logo ela pode ser alocada.\n",
    "            salasDisponiveis.append(sala) #adiciona a sala avaliada na lista resultado\n",
    "    return salasDisponiveis"
   ]
  },
  {
   "cell_type": "code",
   "execution_count": 18,
   "metadata": {},
   "outputs": [],
   "source": [
    "def achaSalasPossiveis(horarios, turma, salas):\n",
    "    salasDisponiveis = achaSalasDisponiveis(horarios,turma, salas) \n",
    "    #busca as salas que ainda estão livres\n",
    "    salasPossiveis = []\n",
    "    for sala in salasDisponiveis:\n",
    "        # Verifica a acessibilidade e o tamanho da turma. Ex:\n",
    "        # Acess = 0 retornar turmas com acess 0 e 1\n",
    "        # Acess = 1 retornar turmas com acess 1\n",
    "        if(sala[1]['cad'] >= turma['alunos'] and sala[1]['acess'] >= turma['acess']): \n",
    "            salasPossiveis.append(sala)\n",
    "    return salasPossiveis"
   ]
  },
  {
   "cell_type": "code",
   "execution_count": 19,
   "id": "664d8032-f3bd-471d-8a0c-9fe429ca8201",
   "metadata": {
    "tags": []
   },
   "outputs": [],
   "source": [
    "def alocaTurmas(horarios, turmas, salas):\n",
    "    \n",
    "    salasPossiveis = []\n",
    "    \n",
    "    for turma in turmas:\n",
    "        \n",
    "        h = turma[1]['horario']\n",
    "        salasPossiveis = achaSalasPossiveis(horarios, turma[1], salas)\n",
    "        \n",
    "        if(salasPossiveis == []):\n",
    "            print(\"deu conflito\", turma[1]['nAlunos'])\n",
    "        else:\n",
    "            for i in range(len(h)):\n",
    "                dia = h[i][0] \n",
    "                #recebe o dia do horario k \n",
    "                horario = h[i][1] \n",
    "                #recebe a hora do horario k\n",
    "                sala = salasPossiveis[0][0]\n",
    "                horarios[sala][dia][horario] = turma[0] #coloca o id(lista não ordenada) da turma no horario.\n",
    "                \n",
    "    return horarios\n",
    "            \n",
    "x =  list(alocaTurmas(horarios, sorted_turmas, sorted_salas).items())\n",
    "\n",
    "\n"
   ]
  },
  {
   "cell_type": "code",
   "execution_count": 20,
   "metadata": {},
   "outputs": [
    {
     "output_type": "stream",
     "name": "stdout",
     "text": [
      "Sala: 101\nseg:\nHorario: 2 - COMP0197\nHorario: 3 - COMP0281\nHorario: 4 - COMP0396\nHorario: 5 - COMP0197\nHorario: 6 - COMP0196\nHorario: 7 - COMP0217\nHorario: 8 - COMP0347\nter:\nHorario: 1 - COMP0212\nHorario: 2 - COMP0219\nHorario: 3 - COMP0203\nHorario: 4 - COMP0219\nHorario: 5 - COMP0279\nHorario: 6 - COMP0337\nHorario: 7 - COMP0211\nHorario: 8 - COMP0284\nqua:\nHorario: 2 - COMP0197\nHorario: 3 - COMP0219\nHorario: 4 - COMP0396\nHorario: 5 - COMP0197\nHorario: 6 - COMP0203\nHorario: 7 - COMP0217\nHorario: 8 - COMP0347\nqui:\nHorario: 1 - COMP0212\nHorario: 2 - COMP0203\nHorario: 3 - COMP0281\nHorario: 4 - COMP0219\nHorario: 5 - COMP0279\nHorario: 6 - COMP0337\nHorario: 7 - COMP0211\nHorario: 8 - COMP0284\nsex:\nHorario: 2 - COMP0197\nHorario: 4 - COMP0396\nHorario: 5 - COMP0197\nHorario: 6 - COMP0203\nHorario: 7 - COMP0211\nHorario: 8 - COMP0347\nsab:\nHorario: 1 - COMP0221\nHorario: 2 - COMP0221\n-------------------------------------------------------------------\nSala: 201\nseg:\nHorario: 1 - COMP0284\nHorario: 2 - COMP0197\nHorario: 3 - COMP0396\nHorario: 4 - COMP0222\nHorario: 5 - COMP0281\nHorario: 6 - COMP0265\nHorario: 7 - COMP0257\nHorario: 8 - COMP0210\nter:\nHorario: 2 - COMP0198\nHorario: 3 - COMP0282\nHorario: 4 - COMP0233\nHorario: 5 - COMP0212\nHorario: 6 - COMP0213\nHorario: 7 - COMP306\nHorario: 8 - COMP0264\nqua:\nHorario: 2 - COMP0197\nHorario: 3 - COMP0396\nHorario: 4 - COMP0222\nHorario: 5 - COMP0281\nHorario: 6 - COMP0265\nHorario: 7 - COMP0257\nHorario: 8 - COMP0210\nqui:\nHorario: 1 - COMP0198\nHorario: 2 - COMP0284\nHorario: 3 - COMP0282\nHorario: 4 - COMP0233\nHorario: 5 - COMP0212\nHorario: 6 - COMP0213\nHorario: 7 - COMP306\nHorario: 8 - COMP0264\nsex:\nHorario: 1 - COMP0197\nHorario: 3 - COMP0396\nHorario: 4 - COMP0233\nHorario: 5 - COMP306\nsab:\nNão tem aula na sala 201 para sab\n-------------------------------------------------------------------\nSala: 301\nseg:\nHorario: 3 - COMP0279\nHorario: 5 - COMP0297\nHorario: 6 - COMP0198\nter:\nHorario: 5 - COMP0250\nHorario: 6 - COMP0311\nqua:\nHorario: 3 - COMP0279\nHorario: 5 - COMP0297\nHorario: 6 - COMP0198\nqui:\nHorario: 5 - COMP0250\nHorario: 6 - COMP0311\nsex:\nHorario: 3 - COMP0279\nHorario: 5 - COMP220\nHorario: 6 - COMP0198\nsab:\nNão tem aula na sala 301 para sab\n-------------------------------------------------------------------\nSala: 401\nseg:\nNão tem aula na sala 401 para seg\nter:\nNão tem aula na sala 401 para ter\nqua:\nNão tem aula na sala 401 para qua\nqui:\nNão tem aula na sala 401 para qui\nsex:\nNão tem aula na sala 401 para sex\nsab:\nNão tem aula na sala 401 para sab\n-------------------------------------------------------------------\nSala: 501\nseg:\nNão tem aula na sala 501 para seg\nter:\nNão tem aula na sala 501 para ter\nqua:\nNão tem aula na sala 501 para qua\nqui:\nNão tem aula na sala 501 para qui\nsex:\nNão tem aula na sala 501 para sex\nsab:\nNão tem aula na sala 501 para sab\n-------------------------------------------------------------------\nSala: 102\nseg:\nHorario: 5 - COMP0282\nHorario: 6 - COMP0311\nter:\nHorario: 5 - COMP220\nqua:\nHorario: 5 - COMP0282\nHorario: 6 - COMP0311\nqui:\nHorario: 5 - COMP220\nsex:\nNão tem aula na sala 102 para sex\nsab:\nNão tem aula na sala 102 para sab\n-------------------------------------------------------------------\nSala: 202\nseg:\nNão tem aula na sala 202 para seg\nter:\nNão tem aula na sala 202 para ter\nqua:\nNão tem aula na sala 202 para qua\nqui:\nNão tem aula na sala 202 para qui\nsex:\nNão tem aula na sala 202 para sex\nsab:\nNão tem aula na sala 202 para sab\n-------------------------------------------------------------------\nSala: 302\nseg:\nNão tem aula na sala 302 para seg\nter:\nNão tem aula na sala 302 para ter\nqua:\nNão tem aula na sala 302 para qua\nqui:\nNão tem aula na sala 302 para qui\nsex:\nNão tem aula na sala 302 para sex\nsab:\nNão tem aula na sala 302 para sab\n-------------------------------------------------------------------\nSala: 402\nseg:\nNão tem aula na sala 402 para seg\nter:\nNão tem aula na sala 402 para ter\nqua:\nNão tem aula na sala 402 para qua\nqui:\nNão tem aula na sala 402 para qui\nsex:\nNão tem aula na sala 402 para sex\nsab:\nNão tem aula na sala 402 para sab\n-------------------------------------------------------------------\nSala: 502\nseg:\nNão tem aula na sala 502 para seg\nter:\nNão tem aula na sala 502 para ter\nqua:\nNão tem aula na sala 502 para qua\nqui:\nNão tem aula na sala 502 para qui\nsex:\nNão tem aula na sala 502 para sex\nsab:\nNão tem aula na sala 502 para sab\n-------------------------------------------------------------------\nSala: 103\nseg:\nNão tem aula na sala 103 para seg\nter:\nNão tem aula na sala 103 para ter\nqua:\nNão tem aula na sala 103 para qua\nqui:\nNão tem aula na sala 103 para qui\nsex:\nNão tem aula na sala 103 para sex\nsab:\nNão tem aula na sala 103 para sab\n-------------------------------------------------------------------\nSala: 203\nseg:\nNão tem aula na sala 203 para seg\nter:\nNão tem aula na sala 203 para ter\nqua:\nNão tem aula na sala 203 para qua\nqui:\nNão tem aula na sala 203 para qui\nsex:\nNão tem aula na sala 203 para sex\nsab:\nNão tem aula na sala 203 para sab\n-------------------------------------------------------------------\nSala: 303\nseg:\nNão tem aula na sala 303 para seg\nter:\nNão tem aula na sala 303 para ter\nqua:\nNão tem aula na sala 303 para qua\nqui:\nNão tem aula na sala 303 para qui\nsex:\nNão tem aula na sala 303 para sex\nsab:\nNão tem aula na sala 303 para sab\n-------------------------------------------------------------------\nSala: 403\nseg:\nNão tem aula na sala 403 para seg\nter:\nNão tem aula na sala 403 para ter\nqua:\nNão tem aula na sala 403 para qua\nqui:\nNão tem aula na sala 403 para qui\nsex:\nNão tem aula na sala 403 para sex\nsab:\nNão tem aula na sala 403 para sab\n-------------------------------------------------------------------\nSala: 503\nseg:\nNão tem aula na sala 503 para seg\nter:\nNão tem aula na sala 503 para ter\nqua:\nNão tem aula na sala 503 para qua\nqui:\nNão tem aula na sala 503 para qui\nsex:\nNão tem aula na sala 503 para sex\nsab:\nNão tem aula na sala 503 para sab\n-------------------------------------------------------------------\nSala: 104\nseg:\nNão tem aula na sala 104 para seg\nter:\nNão tem aula na sala 104 para ter\nqua:\nNão tem aula na sala 104 para qua\nqui:\nNão tem aula na sala 104 para qui\nsex:\nNão tem aula na sala 104 para sex\nsab:\nNão tem aula na sala 104 para sab\n-------------------------------------------------------------------\nSala: 204\nseg:\nNão tem aula na sala 204 para seg\nter:\nNão tem aula na sala 204 para ter\nqua:\nNão tem aula na sala 204 para qua\nqui:\nNão tem aula na sala 204 para qui\nsex:\nNão tem aula na sala 204 para sex\nsab:\nNão tem aula na sala 204 para sab\n-------------------------------------------------------------------\nSala: 304\nseg:\nNão tem aula na sala 304 para seg\nter:\nNão tem aula na sala 304 para ter\nqua:\nNão tem aula na sala 304 para qua\nqui:\nNão tem aula na sala 304 para qui\nsex:\nNão tem aula na sala 304 para sex\nsab:\nNão tem aula na sala 304 para sab\n-------------------------------------------------------------------\nSala: 105\nseg:\nNão tem aula na sala 105 para seg\nter:\nNão tem aula na sala 105 para ter\nqua:\nNão tem aula na sala 105 para qua\nqui:\nNão tem aula na sala 105 para qui\nsex:\nNão tem aula na sala 105 para sex\nsab:\nNão tem aula na sala 105 para sab\n-------------------------------------------------------------------\nSala: 205\nseg:\nNão tem aula na sala 205 para seg\nter:\nNão tem aula na sala 205 para ter\nqua:\nNão tem aula na sala 205 para qua\nqui:\nNão tem aula na sala 205 para qui\nsex:\nNão tem aula na sala 205 para sex\nsab:\nNão tem aula na sala 205 para sab\n"
     ]
    }
   ],
   "source": [
    "# Escreve a Sala seguido do seu horario na semana\n",
    "# Somente os horarios com aulas\n",
    "# Avisa caso a sala não tenha aula no dia\n",
    "for i in range(len(x)):\n",
    "    # loop que passa pelas salas\n",
    "    print(\"Sala:\", x[i][0])\n",
    "    for key,value in x[i][1].items():\n",
    "        # Loop que passa pelos dias e seus valores\n",
    "        # Key = seg, ter ... | Value = 1: idTurma, 2: 0 ...\n",
    "        teveAula = False\n",
    "        print(\"{}:\".format(key))\n",
    "        for chave, valor in value.items():\n",
    "            # Verifica se teve aula no dia.\n",
    "            # Caso sim escreve o horario e a turma.\n",
    "            if valor > 0:\n",
    "                teveAula = True\n",
    "                print(\"Horario:\",chave, '-',turmas[valor]['disciplina'])\n",
    "        if teveAula ==False:\n",
    "            # Caso não escreve a sala e o dia que não teve.\n",
    "            print(\"Não tem aula na sala {} para {}\".format(x[i][0],key))\n",
    "    if i != len(x)-1:\n",
    "        print(\"-------------------------------------------------------------------\")"
   ]
  },
  {
   "cell_type": "code",
   "execution_count": null,
   "metadata": {},
   "outputs": [],
   "source": []
  }
 ],
 "metadata": {
  "kernelspec": {
   "display_name": "Python 3",
   "language": "python",
   "name": "python3"
  }
 },
 "nbformat": 4,
 "nbformat_minor": 5
}