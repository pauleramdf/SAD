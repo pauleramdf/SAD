{
 "cells": [
  {
   "cell_type": "markdown",
   "id": "0ebf6a0d-f8f7-45fc-bb01-10bbbc6f11ba",
   "metadata": {},
   "source": [
    "Restrições hard:\n",
    "Não podemos alocar uma turma numa sala com quantidade de assentos menor\n",
    "que o número de alunos matriculados.\n",
    "Não podemos alocar uma turma que necessita de acessibilidade numa sala que\n",
    "não é acessível\n",
    "Restrições soft\n",
    "• Devemos minimizar a taxa de ocupação de salas: (número de alunos\n",
    "– tamanho da sala)/tamanho da sala.\n",
    "• Restrição de qualidade da sala: Uma turma de qualidade baixa pode\n",
    "ser alocada numa sala de qualidade alta, mas o contrário não é\n",
    "verdade.\n",
    "• Restrição de salas no mesmo horário: penalizar uma distribuição\n",
    "onde uma mesma turma esteja numa sala diferentes.\n",
    "• Restrição de calouros na mesma sala: penalizar distribuições onde\n",
    "turmas de calouros de um mesmo curso estejam em salas\n",
    "diferentes."
   ]
  },
  {
   "cell_type": "code",
   "execution_count": 7,
   "metadata": {},
   "outputs": [],
   "source": [
    "#definitions\n",
    "\n",
    "import csv\n",
    "#leitura andre\n",
    "#df = csv.DictReader(open(\"cenario1-salas.csv\")) \n",
    "#df1 = csv.DictReader(open(\"cenario1-turmas.csv\",encoding='utf-8'))\n",
    "\n",
    "#leitura paulo\n",
    "df = csv.DictReader(open(r\"C:\\Users\\Paulo\\Desktop\\TrabalhoSAD\\cenario1-salas.csv\",encoding='utf-8'))\n",
    "df1 = csv.DictReader(open(r\"C:\\Users\\Paulo\\Desktop\\TrabalhoSAD\\cenario1-turmas.csv\",encoding='utf-8'))\n",
    "turmas = {}\n",
    "salas = {}\n",
    "horarios = {}\n",
    "id_Salas = []\n",
    "horario = {}\n",
    "x = 0"
   ]
  },
  {
   "cell_type": "code",
   "execution_count": 8,
   "metadata": {},
   "outputs": [],
   "source": [
    "#transforma o horario para um formato mais amigavel\n",
    "def transHorario(horario):\n",
    "    list = []\n",
    "    print(horario)\n",
    "    turmaTemp = horario.split(\"-\")\n",
    "    for i in range(len(turmaTemp)):\n",
    "        dia = int(turmaTemp[i][0])\n",
    "        turno = turmaTemp[i][1]\n",
    "        horarioIni = int(turmaTemp[i][2])\n",
    "\n",
    "        if(turno == 'M'):\n",
    "            horarioIni = 1 + horarioIni/2 \n",
    "        if(turno == 'T'):\n",
    "            horarioIni = 4 + horarioIni/2 \n",
    "\n",
    "        elif(turno == 'N'):\n",
    "            horarioIni = 7 + horarioIni/2\n",
    "        \n",
    "        if(int(turmaTemp[i][0]) == 2):\n",
    "            dia = 'seg'\n",
    "        elif(int(turmaTemp[i][0]) == 3):\n",
    "            dia = 'ter'\n",
    "        elif(int(turmaTemp[i][0]) == 4):\n",
    "            dia = 'qua'\n",
    "        elif(int(turmaTemp[i][0]) == 5):\n",
    "            dia = 'qui'\n",
    "        elif(int(turmaTemp[i][0]) == 6):\n",
    "            dia = 'sex'\n",
    "        else:\n",
    "            dia = 'sab'\n",
    "        list.append((dia,int(horarioIni)))\n",
    "    print(list)\n",
    "    return list"
   ]
  },
  {
   "cell_type": "code",
   "execution_count": 12,
   "id": "91c5d13f-b140-4413-b65f-bfc99e44fe4e",
   "metadata": {
    "tags": []
   },
   "outputs": [],
   "source": [
    "    \n",
    "for row in df1:\n",
    "    turmas[x] = {\"disciplina\": row['disciplina'],\"prof\": row['professor'], \"horario\": transHorario(row['dias_horario']),\n",
    "                 \"alunos\": int(row['numero_alunos']), \"curso\": row['curso'], \n",
    "                 \"periodo\": int(row['período']), \"acess\": int(row[\"acessibilidade\"]), \"quali\": int(row[\"qualidade\"])}\n",
    "    x+=1\n",
    "for row in df:\n",
    "    salas[row['id_sala']] = {\"cad\": int(row['numero_cadeiras']), \"acess\": int(row['acessivel']), \"quali\": row['qualidade']}\n",
    "    id_Salas.append(row['id_sala'])\n",
    "\n",
    "for sala in id_Salas:\n",
    "    horarios[sala] =  { \"seg\":{1: 0, 2: 0, 3: 0, 4: 0, 5: 0 , 6: 0 , 7: 0 , 8: 0 },\n",
    "                        \"ter\":{1: 0, 2: 0, 3: 0, 4: 0, 5: 0 , 6: 0 , 7: 0 , 8: 0 },\n",
    "                        \"qua\":{1: 0, 2: 0, 3: 0, 4: 0, 5: 0 , 6: 0 , 7: 0 , 8: 0 },\n",
    "                        \"qui\":{1: 0, 2: 0, 3: 0, 4: 0, 5: 0 , 6: 0 , 7: 0 , 8: 0 },\n",
    "                        \"sex\":{1: 0, 2: 0, 3: 0, 4: 0, 5: 0 , 6: 0 , 7: 0 , 8: 0 },\n",
    "                        \"sab\":{1: 0, 2: 0, 3: 0, 4: 0, 5: 0 , 6: 0 , 7: 0 , 8: 0 }}\n",
    "\n",
    "\n"
   ]
  },
  {
   "cell_type": "code",
   "execution_count": 13,
   "id": "bf93db26-b8af-4fd6-afa4-d7cc24741c75",
   "metadata": {
    "tags": []
   },
   "outputs": [],
   "source": [
    "\n",
    "sorted_salas = sorted(salas.items(), key=lambda sala: (sala[1]['acess'],sala[1]['cad']), reverse=True)\n",
    "\n",
    "sorted_turmas = sorted(turmas.items(), key=lambda turma: (turma[1]['acess'], turma[1]['alunos']), reverse=True)\n"
   ]
  },
  {
   "cell_type": "code",
   "execution_count": 14,
   "metadata": {},
   "outputs": [],
   "source": [
    "def achaSalasDisponiveis(horarios, turma, salas):\n",
    "    h = turma['horario']\n",
    "    #recebe a lista de horarios dessa turma\n",
    "    salasDisponiveis = []\n",
    "    #lista que recebe a solução\n",
    "    for sala in salas:\n",
    "        \n",
    "        for j in range(len(horarios)):\n",
    "            contador = 0\n",
    "            for k in range(len(h)):\n",
    "                dia = h[k][0]\n",
    "                #recebe o dia do horario k \n",
    "                horario = h[k][1] \n",
    "                #recebe a hora do horario k\n",
    "                if(horarios[sala[0]][dia][horario] == 0): \n",
    "                    contador += 1 \n",
    "                    #se o horario estiver disponivel é incrementado este contador\n",
    "        if(contador == len(h)): \n",
    "            #se o contador chegar ao mesmo tamanho da lista de horario, significa que essa \n",
    "            # sala está livre em todos os horarios dessa turma, logo ela pode ser alocada.\n",
    "            salasDisponiveis.append(sala) #adiciona a sala avaliada na lista resultado\n",
    "    return salasDisponiveis"
   ]
  },
  {
   "cell_type": "code",
   "execution_count": 16,
   "metadata": {},
   "outputs": [],
   "source": [
    "def achaSalasPossiveis(horarios, turma, salas):\n",
    "    salasDisponiveis = achaSalasDisponiveis(horarios,turma, salas) \n",
    "    #busca as salas que ainda estão livres\n",
    "    salasPossiveis = []\n",
    "    for sala in salasDisponiveis:\n",
    "        # Verifica a acessibilidade e o tamanho da turma. Ex:\n",
    "        # Acess = 0 retornar turmas com acess 0 e 1\n",
    "        # Acess = 1 retornar turmas com acess 1\n",
    "        if(sala[1]['cad'] >= turma['alunos'] and sala[1]['acess'] >= turma['acess']): \n",
    "            salasPossiveis.append(sala)\n",
    "    return salasPossiveis"
   ]
  },
  {
   "cell_type": "code",
   "execution_count": 269,
   "id": "664d8032-f3bd-471d-8a0c-9fe429ca8201",
   "metadata": {
    "tags": []
   },
   "outputs": [
    {
     "output_type": "stream",
     "name": "stdout",
     "text": [
      "{'seg': {1: 1, 2: 1, 3: 1, 4: 1, 5: 1, 6: 1, 7: 1, 8: 1}, 'ter': {1: 1, 2: 1, 3: 1, 4: 1, 5: 1, 6: 1, 7: 1, 8: 1}, 'qua': {1: 1, 2: 1, 3: 1, 4: 1, 5: 1, 6: 0, 7: 1, 8: 1}, 'qui': {1: 1, 2: 1, 3: 1, 4: 1, 5: 1, 6: 1, 7: 1, 8: 1}, 'sex': {1: 0, 2: 1, 3: 0, 4: 1, 5: 1, 6: 1, 7: 0, 8: 1}, 'sab': {1: 1, 2: 1, 3: 0, 4: 0, 5: 0, 6: 0, 7: 0, 8: 0}}\n{'seg': {1: 1, 2: 1, 3: 1, 4: 1, 5: 1, 6: 1, 7: 1, 8: 1}, 'ter': {1: 1, 2: 1, 3: 1, 4: 1, 5: 1, 6: 1, 7: 1, 8: 1}, 'qua': {1: 1, 2: 1, 3: 1, 4: 1, 5: 1, 6: 1, 7: 1, 8: 1}, 'qui': {1: 1, 2: 1, 3: 1, 4: 1, 5: 1, 6: 1, 7: 1, 8: 1}, 'sex': {1: 1, 2: 0, 3: 1, 4: 1, 5: 1, 6: 0, 7: 1, 8: 0}, 'sab': {1: 0, 2: 0, 3: 0, 4: 0, 5: 0, 6: 0, 7: 0, 8: 0}}\n{'seg': {1: 0, 2: 0, 3: 1, 4: 0, 5: 1, 6: 1, 7: 0, 8: 0}, 'ter': {1: 0, 2: 0, 3: 0, 4: 0, 5: 1, 6: 1, 7: 0, 8: 0}, 'qua': {1: 0, 2: 0, 3: 1, 4: 0, 5: 1, 6: 1, 7: 0, 8: 0}, 'qui': {1: 0, 2: 0, 3: 0, 4: 0, 5: 1, 6: 1, 7: 0, 8: 0}, 'sex': {1: 0, 2: 0, 3: 1, 4: 0, 5: 0, 6: 1, 7: 0, 8: 0}, 'sab': {1: 0, 2: 0, 3: 0, 4: 0, 5: 0, 6: 0, 7: 0, 8: 0}}\n{'seg': {1: 0, 2: 0, 3: 0, 4: 0, 5: 1, 6: 1, 7: 0, 8: 0}, 'ter': {1: 0, 2: 0, 3: 0, 4: 0, 5: 1, 6: 0, 7: 0, 8: 0}, 'qua': {1: 0, 2: 0, 3: 0, 4: 0, 5: 1, 6: 1, 7: 0, 8: 0}, 'qui': {1: 0, 2: 0, 3: 0, 4: 0, 5: 1, 6: 0, 7: 0, 8: 0}, 'sex': {1: 0, 2: 0, 3: 0, 4: 0, 5: 0, 6: 0, 7: 0, 8: 0}, 'sab': {1: 0, 2: 0, 3: 0, 4: 0, 5: 0, 6: 0, 7: 0, 8: 0}}\n{'seg': {1: 0, 2: 0, 3: 0, 4: 0, 5: 0, 6: 0, 7: 0, 8: 0}, 'ter': {1: 0, 2: 0, 3: 0, 4: 0, 5: 0, 6: 0, 7: 0, 8: 0}, 'qua': {1: 0, 2: 0, 3: 0, 4: 0, 5: 0, 6: 1, 7: 0, 8: 0}, 'qui': {1: 0, 2: 0, 3: 0, 4: 0, 5: 0, 6: 0, 7: 0, 8: 0}, 'sex': {1: 0, 2: 0, 3: 0, 4: 0, 5: 0, 6: 1, 7: 0, 8: 0}, 'sab': {1: 0, 2: 0, 3: 0, 4: 0, 5: 0, 6: 0, 7: 0, 8: 0}}\n{'seg': {1: 0, 2: 0, 3: 0, 4: 0, 5: 0, 6: 0, 7: 0, 8: 0}, 'ter': {1: 0, 2: 0, 3: 0, 4: 0, 5: 0, 6: 0, 7: 0, 8: 0}, 'qua': {1: 0, 2: 0, 3: 0, 4: 0, 5: 0, 6: 0, 7: 0, 8: 0}, 'qui': {1: 0, 2: 0, 3: 0, 4: 0, 5: 0, 6: 0, 7: 0, 8: 0}, 'sex': {1: 0, 2: 0, 3: 0, 4: 0, 5: 0, 6: 0, 7: 0, 8: 0}, 'sab': {1: 0, 2: 0, 3: 0, 4: 0, 5: 0, 6: 0, 7: 0, 8: 0}}\n{'seg': {1: 0, 2: 0, 3: 0, 4: 0, 5: 0, 6: 0, 7: 0, 8: 0}, 'ter': {1: 0, 2: 0, 3: 0, 4: 0, 5: 0, 6: 0, 7: 0, 8: 0}, 'qua': {1: 0, 2: 0, 3: 0, 4: 0, 5: 0, 6: 0, 7: 0, 8: 0}, 'qui': {1: 0, 2: 0, 3: 0, 4: 0, 5: 0, 6: 0, 7: 0, 8: 0}, 'sex': {1: 0, 2: 0, 3: 0, 4: 0, 5: 0, 6: 0, 7: 0, 8: 0}, 'sab': {1: 0, 2: 0, 3: 0, 4: 0, 5: 0, 6: 0, 7: 0, 8: 0}}\n{'seg': {1: 0, 2: 0, 3: 0, 4: 0, 5: 0, 6: 0, 7: 0, 8: 0}, 'ter': {1: 0, 2: 0, 3: 0, 4: 0, 5: 0, 6: 0, 7: 0, 8: 0}, 'qua': {1: 0, 2: 0, 3: 0, 4: 0, 5: 0, 6: 0, 7: 0, 8: 0}, 'qui': {1: 0, 2: 0, 3: 0, 4: 0, 5: 0, 6: 0, 7: 0, 8: 0}, 'sex': {1: 0, 2: 0, 3: 0, 4: 0, 5: 0, 6: 0, 7: 0, 8: 0}, 'sab': {1: 0, 2: 0, 3: 0, 4: 0, 5: 0, 6: 0, 7: 0, 8: 0}}\n{'seg': {1: 0, 2: 0, 3: 0, 4: 0, 5: 0, 6: 0, 7: 0, 8: 0}, 'ter': {1: 0, 2: 0, 3: 0, 4: 0, 5: 0, 6: 0, 7: 0, 8: 0}, 'qua': {1: 0, 2: 0, 3: 0, 4: 0, 5: 0, 6: 0, 7: 0, 8: 0}, 'qui': {1: 0, 2: 0, 3: 0, 4: 0, 5: 0, 6: 0, 7: 0, 8: 0}, 'sex': {1: 0, 2: 0, 3: 0, 4: 0, 5: 0, 6: 0, 7: 0, 8: 0}, 'sab': {1: 0, 2: 0, 3: 0, 4: 0, 5: 0, 6: 0, 7: 0, 8: 0}}\n{'seg': {1: 0, 2: 0, 3: 0, 4: 0, 5: 0, 6: 0, 7: 0, 8: 0}, 'ter': {1: 0, 2: 0, 3: 0, 4: 0, 5: 0, 6: 0, 7: 0, 8: 0}, 'qua': {1: 0, 2: 0, 3: 0, 4: 0, 5: 0, 6: 0, 7: 0, 8: 0}, 'qui': {1: 0, 2: 0, 3: 0, 4: 0, 5: 0, 6: 0, 7: 0, 8: 0}, 'sex': {1: 0, 2: 0, 3: 0, 4: 0, 5: 0, 6: 0, 7: 0, 8: 0}, 'sab': {1: 0, 2: 0, 3: 0, 4: 0, 5: 0, 6: 0, 7: 0, 8: 0}}\n{'seg': {1: 0, 2: 0, 3: 0, 4: 0, 5: 0, 6: 0, 7: 0, 8: 0}, 'ter': {1: 0, 2: 0, 3: 0, 4: 0, 5: 0, 6: 0, 7: 0, 8: 0}, 'qua': {1: 0, 2: 0, 3: 0, 4: 0, 5: 0, 6: 0, 7: 0, 8: 0}, 'qui': {1: 0, 2: 0, 3: 0, 4: 0, 5: 0, 6: 0, 7: 0, 8: 0}, 'sex': {1: 0, 2: 0, 3: 0, 4: 0, 5: 0, 6: 0, 7: 0, 8: 0}, 'sab': {1: 0, 2: 0, 3: 0, 4: 0, 5: 0, 6: 0, 7: 0, 8: 0}}\n{'seg': {1: 0, 2: 0, 3: 0, 4: 0, 5: 0, 6: 0, 7: 0, 8: 0}, 'ter': {1: 0, 2: 0, 3: 0, 4: 0, 5: 0, 6: 0, 7: 0, 8: 0}, 'qua': {1: 0, 2: 0, 3: 0, 4: 0, 5: 0, 6: 0, 7: 0, 8: 0}, 'qui': {1: 0, 2: 0, 3: 0, 4: 0, 5: 0, 6: 0, 7: 0, 8: 0}, 'sex': {1: 0, 2: 0, 3: 0, 4: 0, 5: 0, 6: 0, 7: 0, 8: 0}, 'sab': {1: 0, 2: 0, 3: 0, 4: 0, 5: 0, 6: 0, 7: 0, 8: 0}}\n{'seg': {1: 0, 2: 0, 3: 0, 4: 0, 5: 0, 6: 0, 7: 0, 8: 0}, 'ter': {1: 0, 2: 0, 3: 0, 4: 0, 5: 0, 6: 0, 7: 0, 8: 0}, 'qua': {1: 0, 2: 0, 3: 0, 4: 0, 5: 0, 6: 0, 7: 0, 8: 0}, 'qui': {1: 0, 2: 0, 3: 0, 4: 0, 5: 0, 6: 0, 7: 0, 8: 0}, 'sex': {1: 0, 2: 0, 3: 0, 4: 0, 5: 0, 6: 0, 7: 0, 8: 0}, 'sab': {1: 0, 2: 0, 3: 0, 4: 0, 5: 0, 6: 0, 7: 0, 8: 0}}\n{'seg': {1: 0, 2: 0, 3: 0, 4: 0, 5: 0, 6: 0, 7: 0, 8: 0}, 'ter': {1: 0, 2: 0, 3: 0, 4: 0, 5: 0, 6: 0, 7: 0, 8: 0}, 'qua': {1: 0, 2: 0, 3: 0, 4: 0, 5: 0, 6: 0, 7: 0, 8: 0}, 'qui': {1: 0, 2: 0, 3: 0, 4: 0, 5: 0, 6: 0, 7: 0, 8: 0}, 'sex': {1: 0, 2: 0, 3: 0, 4: 0, 5: 0, 6: 0, 7: 0, 8: 0}, 'sab': {1: 0, 2: 0, 3: 0, 4: 0, 5: 0, 6: 0, 7: 0, 8: 0}}\n{'seg': {1: 0, 2: 0, 3: 0, 4: 0, 5: 0, 6: 0, 7: 0, 8: 0}, 'ter': {1: 0, 2: 0, 3: 0, 4: 0, 5: 0, 6: 0, 7: 0, 8: 0}, 'qua': {1: 0, 2: 0, 3: 0, 4: 0, 5: 0, 6: 0, 7: 0, 8: 0}, 'qui': {1: 0, 2: 0, 3: 0, 4: 0, 5: 0, 6: 0, 7: 0, 8: 0}, 'sex': {1: 0, 2: 0, 3: 0, 4: 0, 5: 0, 6: 0, 7: 0, 8: 0}, 'sab': {1: 0, 2: 0, 3: 0, 4: 0, 5: 0, 6: 0, 7: 0, 8: 0}}\n{'seg': {1: 0, 2: 0, 3: 0, 4: 0, 5: 0, 6: 0, 7: 0, 8: 0}, 'ter': {1: 0, 2: 0, 3: 0, 4: 0, 5: 0, 6: 0, 7: 0, 8: 0}, 'qua': {1: 0, 2: 0, 3: 0, 4: 0, 5: 0, 6: 0, 7: 0, 8: 0}, 'qui': {1: 0, 2: 0, 3: 0, 4: 0, 5: 0, 6: 0, 7: 0, 8: 0}, 'sex': {1: 0, 2: 0, 3: 0, 4: 0, 5: 0, 6: 0, 7: 0, 8: 0}, 'sab': {1: 0, 2: 0, 3: 0, 4: 0, 5: 0, 6: 0, 7: 0, 8: 0}}\n{'seg': {1: 0, 2: 0, 3: 0, 4: 0, 5: 0, 6: 0, 7: 0, 8: 0}, 'ter': {1: 0, 2: 0, 3: 0, 4: 0, 5: 0, 6: 0, 7: 0, 8: 0}, 'qua': {1: 0, 2: 0, 3: 0, 4: 0, 5: 0, 6: 0, 7: 0, 8: 0}, 'qui': {1: 0, 2: 0, 3: 0, 4: 0, 5: 0, 6: 0, 7: 0, 8: 0}, 'sex': {1: 0, 2: 0, 3: 0, 4: 0, 5: 0, 6: 0, 7: 0, 8: 0}, 'sab': {1: 0, 2: 0, 3: 0, 4: 0, 5: 0, 6: 0, 7: 0, 8: 0}}\n{'seg': {1: 0, 2: 0, 3: 0, 4: 0, 5: 0, 6: 0, 7: 0, 8: 0}, 'ter': {1: 0, 2: 0, 3: 0, 4: 0, 5: 0, 6: 0, 7: 0, 8: 0}, 'qua': {1: 0, 2: 0, 3: 0, 4: 0, 5: 0, 6: 0, 7: 0, 8: 0}, 'qui': {1: 0, 2: 0, 3: 0, 4: 0, 5: 0, 6: 0, 7: 0, 8: 0}, 'sex': {1: 0, 2: 0, 3: 0, 4: 0, 5: 0, 6: 0, 7: 0, 8: 0}, 'sab': {1: 0, 2: 0, 3: 0, 4: 0, 5: 0, 6: 0, 7: 0, 8: 0}}\n{'seg': {1: 0, 2: 0, 3: 0, 4: 0, 5: 0, 6: 0, 7: 0, 8: 0}, 'ter': {1: 0, 2: 0, 3: 0, 4: 0, 5: 0, 6: 0, 7: 0, 8: 0}, 'qua': {1: 0, 2: 0, 3: 0, 4: 0, 5: 0, 6: 0, 7: 0, 8: 0}, 'qui': {1: 0, 2: 0, 3: 0, 4: 0, 5: 0, 6: 0, 7: 0, 8: 0}, 'sex': {1: 0, 2: 0, 3: 0, 4: 0, 5: 0, 6: 0, 7: 0, 8: 0}, 'sab': {1: 0, 2: 0, 3: 0, 4: 0, 5: 0, 6: 0, 7: 0, 8: 0}}\n{'seg': {1: 0, 2: 0, 3: 0, 4: 0, 5: 0, 6: 0, 7: 0, 8: 0}, 'ter': {1: 0, 2: 0, 3: 0, 4: 0, 5: 0, 6: 0, 7: 0, 8: 0}, 'qua': {1: 0, 2: 0, 3: 0, 4: 0, 5: 0, 6: 0, 7: 0, 8: 0}, 'qui': {1: 0, 2: 0, 3: 0, 4: 0, 5: 0, 6: 0, 7: 0, 8: 0}, 'sex': {1: 0, 2: 0, 3: 0, 4: 0, 5: 0, 6: 0, 7: 0, 8: 0}, 'sab': {1: 0, 2: 0, 3: 0, 4: 0, 5: 0, 6: 0, 7: 0, 8: 0}}\n"
     ]
    }
   ],
   "source": [
    "def alocaTurmas(horarios, turmas, salas):\n",
    "    salasPossiveis = []\n",
    "    for turma in turmas:\n",
    "        h = turma[1]['horario']\n",
    "        salasPossiveis = achaSalasPossiveis(horarios, turma[1], salas)\n",
    "        if(salasPossiveis == []):\n",
    "            print(\"deu conflito\", turma[1])\n",
    "        else:\n",
    "            for i in range(len(h)):\n",
    "                dia = h[i][0] \n",
    "                #recebe o dia do horario k \n",
    "                horario = h[i][1] \n",
    "                #recebe a hora do horario k\n",
    "                sala = salasPossiveis[0][0]\n",
    "                horarios[sala][dia][horario] = 1\n",
    "                #print(\"aloquei\", salasPossiveis[0], horarios[salasPossiveis[0]][dia][horario] )\n",
    "    return horarios\n",
    "            \n",
    "x = alocaTurmas(horarios, sorted_turmas, sorted_salas)\n",
    "\n",
    "for sala in sorted_salas:\n",
    "    print(x[sala[0]])\n",
    "#achaSalasPossiveis(horarios, turmas[0], salas)"
   ]
  },
  {
   "cell_type": "code",
   "execution_count": null,
   "metadata": {},
   "outputs": [],
   "source": []
  }
 ],
 "metadata": {
  "kernelspec": {
   "display_name": "Python 3",
   "language": "python",
   "name": "python3"
  }
 },
 "nbformat": 4,
 "nbformat_minor": 5
}